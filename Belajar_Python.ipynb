{
  "nbformat": 4,
  "nbformat_minor": 0,
  "metadata": {
    "colab": {
      "name": "Belajar Python.ipynb",
      "provenance": [],
      "collapsed_sections": [],
      "toc_visible": true,
      "authorship_tag": "ABX9TyOwBN8/6qLJYwB03gREO7lY",
      "include_colab_link": true
    },
    "kernelspec": {
      "name": "python3",
      "display_name": "Python 3"
    },
    "accelerator": "GPU"
  },
  "cells": [
    {
      "cell_type": "markdown",
      "metadata": {
        "id": "view-in-github",
        "colab_type": "text"
      },
      "source": [
        "<a href=\"https://colab.research.google.com/github/HabibRobbani/S2/blob/master/Belajar_Python.ipynb\" target=\"_parent\"><img src=\"https://colab.research.google.com/assets/colab-badge.svg\" alt=\"Open In Colab\"/></a>"
      ]
    },
    {
      "cell_type": "code",
      "metadata": {
        "id": "Ri0f5eSccSwq",
        "colab_type": "code",
        "colab": {}
      },
      "source": [
        "import matplotlib.pyplot as plt\n",
        "import numpy as np\n",
        "from keras.models import Sequential\n",
        "from keras.layers.core import Dense\n",
        "from keras.callbacks import EarlyStopping\n",
        "\n"
      ],
      "execution_count": 0,
      "outputs": []
    },
    {
      "cell_type": "code",
      "metadata": {
        "id": "JfKW4be5MOwd",
        "colab_type": "code",
        "colab": {}
      },
      "source": [
        "from random import randint as rand\n",
        "x = []\n",
        "y = []\n",
        "for i in range(1000):\n",
        "  x1 = rand(1,10)\n",
        "  x2 = rand(1,10)\n",
        "  y1 = x1 * x2\n",
        "  x.append([x1,x2])\n",
        "  y.append(y1)"
      ],
      "execution_count": 0,
      "outputs": []
    },
    {
      "cell_type": "markdown",
      "metadata": {
        "id": "LMZ_pnIaFgay",
        "colab_type": "text"
      },
      "source": [
        "AWAL "
      ]
    },
    {
      "cell_type": "code",
      "metadata": {
        "id": "XfUw3XpO65lt",
        "colab_type": "code",
        "colab": {
          "base_uri": "https://localhost:8080/",
          "height": 36
        },
        "outputId": "96b18988-3c0c-47df-af5e-8494d48c3524"
      },
      "source": [
        "\n",
        "\n",
        "\n",
        "\n",
        "x_train = x\n",
        "y_train = y\n",
        "\n",
        "x_train = np.asarray(x_train)\n",
        "x_train = x_train.astype('float32')/10. #normalisasi\n",
        "\n",
        "input_shape = len(x_train)\n",
        "y_train = np.asarray(y_train)\n",
        "\n",
        "print (str(x[0]) + \" \" + str(y_train[0]) )\n"
      ],
      "execution_count": 8,
      "outputs": [
        {
          "output_type": "stream",
          "text": [
            "[4, 6] 24\n"
          ],
          "name": "stdout"
        }
      ]
    },
    {
      "cell_type": "code",
      "metadata": {
        "id": "ap18EzA4MNye",
        "colab_type": "code",
        "colab": {}
      },
      "source": [
        ""
      ],
      "execution_count": 0,
      "outputs": []
    },
    {
      "cell_type": "markdown",
      "metadata": {
        "id": "6SZaHMPxFeST",
        "colab_type": "text"
      },
      "source": [
        "DATASET"
      ]
    },
    {
      "cell_type": "code",
      "metadata": {
        "id": "4bnhk_3vHLgB",
        "colab_type": "code",
        "colab": {
          "base_uri": "https://localhost:8080/",
          "height": 352
        },
        "outputId": "dd0b7fa5-af2e-4b1e-b373-5b8aa0693136"
      },
      "source": [
        "model = Sequential ()\n",
        "model.add(Dense(19, input_dim=2, activation='relu'))\n",
        "model.add(Dense(19, activation='relu'))\n",
        "model.add(Dense(19, activation='relu'))\n",
        "model.add(Dense(19, activation='relu'))\n",
        "model.add(Dense(1))\n",
        "\n",
        "#64 sebagai jumlah neuron\n",
        "#input_dim=2 jumlah input layer\n",
        "#(1) output layer\n",
        "\n",
        "model.summary()\n"
      ],
      "execution_count": 12,
      "outputs": [
        {
          "output_type": "stream",
          "text": [
            "Model: \"sequential_3\"\n",
            "_________________________________________________________________\n",
            "Layer (type)                 Output Shape              Param #   \n",
            "=================================================================\n",
            "dense_11 (Dense)             (None, 19)                57        \n",
            "_________________________________________________________________\n",
            "dense_12 (Dense)             (None, 19)                380       \n",
            "_________________________________________________________________\n",
            "dense_13 (Dense)             (None, 19)                380       \n",
            "_________________________________________________________________\n",
            "dense_14 (Dense)             (None, 19)                380       \n",
            "_________________________________________________________________\n",
            "dense_15 (Dense)             (None, 1)                 20        \n",
            "=================================================================\n",
            "Total params: 1,217\n",
            "Trainable params: 1,217\n",
            "Non-trainable params: 0\n",
            "_________________________________________________________________\n"
          ],
          "name": "stdout"
        }
      ]
    },
    {
      "cell_type": "markdown",
      "metadata": {
        "id": "j23SHOLDIuiM",
        "colab_type": "text"
      },
      "source": [
        "ARSITEKTUR JARINGAN"
      ]
    },
    {
      "cell_type": "code",
      "metadata": {
        "id": "mL6gKd_mI0lM",
        "colab_type": "code",
        "colab": {
          "base_uri": "https://localhost:8080/",
          "height": 1000
        },
        "outputId": "41494fdc-9d47-4952-e670-8bfb4b6a08e8"
      },
      "source": [
        "es = EarlyStopping(monitor='loss', mode='min', verbose=1, patience=50)\n",
        "model.compile(loss='mean_absolute_error', optimizer='adam', metrics=['accuracy'])\n",
        "\n",
        "history = model.fit(x_train, y_train, batch_size=10, epochs=100)\n"
      ],
      "execution_count": 13,
      "outputs": [
        {
          "output_type": "stream",
          "text": [
            "Epoch 1/100\n",
            "1000/1000 [==============================] - 1s 867us/step - loss: 27.5998 - acc: 0.0190\n",
            "Epoch 2/100\n",
            "1000/1000 [==============================] - 0s 494us/step - loss: 16.6188 - acc: 0.0170\n",
            "Epoch 3/100\n",
            "1000/1000 [==============================] - 0s 490us/step - loss: 13.7248 - acc: 0.0260\n",
            "Epoch 4/100\n",
            "1000/1000 [==============================] - 1s 513us/step - loss: 11.4390 - acc: 0.0150\n",
            "Epoch 5/100\n",
            "1000/1000 [==============================] - 0s 473us/step - loss: 7.5048 - acc: 0.0770\n",
            "Epoch 6/100\n",
            "1000/1000 [==============================] - 0s 499us/step - loss: 4.9167 - acc: 0.0920\n",
            "Epoch 7/100\n",
            "1000/1000 [==============================] - 0s 482us/step - loss: 3.7974 - acc: 0.1060\n",
            "Epoch 8/100\n",
            "1000/1000 [==============================] - 0s 494us/step - loss: 2.9042 - acc: 0.1410\n",
            "Epoch 9/100\n",
            "1000/1000 [==============================] - 0s 475us/step - loss: 2.5380 - acc: 0.1550\n",
            "Epoch 10/100\n",
            "1000/1000 [==============================] - 0s 494us/step - loss: 2.3253 - acc: 0.1780\n",
            "Epoch 11/100\n",
            "1000/1000 [==============================] - 0s 492us/step - loss: 2.1535 - acc: 0.2060\n",
            "Epoch 12/100\n",
            "1000/1000 [==============================] - 0s 484us/step - loss: 2.0151 - acc: 0.2300\n",
            "Epoch 13/100\n",
            "1000/1000 [==============================] - 0s 479us/step - loss: 1.8148 - acc: 0.2550\n",
            "Epoch 14/100\n",
            "1000/1000 [==============================] - 0s 488us/step - loss: 1.6794 - acc: 0.2870\n",
            "Epoch 15/100\n",
            "1000/1000 [==============================] - 0s 474us/step - loss: 1.5188 - acc: 0.2870\n",
            "Epoch 16/100\n",
            "1000/1000 [==============================] - 0s 469us/step - loss: 1.3658 - acc: 0.2960\n",
            "Epoch 17/100\n",
            "1000/1000 [==============================] - 1s 508us/step - loss: 1.2250 - acc: 0.3300\n",
            "Epoch 18/100\n",
            "1000/1000 [==============================] - 0s 486us/step - loss: 1.1252 - acc: 0.3690\n",
            "Epoch 19/100\n",
            "1000/1000 [==============================] - 0s 490us/step - loss: 1.0168 - acc: 0.4030\n",
            "Epoch 20/100\n",
            "1000/1000 [==============================] - 0s 471us/step - loss: 0.8793 - acc: 0.4620\n",
            "Epoch 21/100\n",
            "1000/1000 [==============================] - 1s 500us/step - loss: 0.8480 - acc: 0.4470\n",
            "Epoch 22/100\n",
            "1000/1000 [==============================] - 1s 500us/step - loss: 0.7644 - acc: 0.4800\n",
            "Epoch 23/100\n",
            "1000/1000 [==============================] - 0s 489us/step - loss: 0.7436 - acc: 0.4700\n",
            "Epoch 24/100\n",
            "1000/1000 [==============================] - 0s 476us/step - loss: 0.7494 - acc: 0.4760\n",
            "Epoch 25/100\n",
            "1000/1000 [==============================] - 1s 508us/step - loss: 0.6754 - acc: 0.5290\n",
            "Epoch 26/100\n",
            "1000/1000 [==============================] - 0s 481us/step - loss: 0.6290 - acc: 0.5450\n",
            "Epoch 27/100\n",
            "1000/1000 [==============================] - 0s 497us/step - loss: 0.6553 - acc: 0.5030\n",
            "Epoch 28/100\n",
            "1000/1000 [==============================] - 0s 492us/step - loss: 0.6185 - acc: 0.5370\n",
            "Epoch 29/100\n",
            "1000/1000 [==============================] - 1s 505us/step - loss: 0.6032 - acc: 0.5270\n",
            "Epoch 30/100\n",
            "1000/1000 [==============================] - 0s 475us/step - loss: 0.6260 - acc: 0.5290\n",
            "Epoch 31/100\n",
            "1000/1000 [==============================] - 0s 485us/step - loss: 0.5491 - acc: 0.5860\n",
            "Epoch 32/100\n",
            "1000/1000 [==============================] - 1s 509us/step - loss: 0.5649 - acc: 0.5790\n",
            "Epoch 33/100\n",
            "1000/1000 [==============================] - 0s 492us/step - loss: 0.5475 - acc: 0.5780\n",
            "Epoch 34/100\n",
            "1000/1000 [==============================] - 0s 494us/step - loss: 0.5142 - acc: 0.6180\n",
            "Epoch 35/100\n",
            "1000/1000 [==============================] - 0s 486us/step - loss: 0.5254 - acc: 0.5950\n",
            "Epoch 36/100\n",
            "1000/1000 [==============================] - 0s 479us/step - loss: 0.5007 - acc: 0.6580\n",
            "Epoch 37/100\n",
            "1000/1000 [==============================] - 0s 496us/step - loss: 0.5251 - acc: 0.6260\n",
            "Epoch 38/100\n",
            "1000/1000 [==============================] - 0s 480us/step - loss: 0.4857 - acc: 0.6560\n",
            "Epoch 39/100\n",
            "1000/1000 [==============================] - 0s 474us/step - loss: 0.5050 - acc: 0.6290\n",
            "Epoch 40/100\n",
            "1000/1000 [==============================] - 0s 499us/step - loss: 0.4881 - acc: 0.6570\n",
            "Epoch 41/100\n",
            "1000/1000 [==============================] - 0s 475us/step - loss: 0.4665 - acc: 0.6780\n",
            "Epoch 42/100\n",
            "1000/1000 [==============================] - 1s 504us/step - loss: 0.4806 - acc: 0.6650\n",
            "Epoch 43/100\n",
            "1000/1000 [==============================] - 0s 489us/step - loss: 0.4962 - acc: 0.6410\n",
            "Epoch 44/100\n",
            "1000/1000 [==============================] - 0s 489us/step - loss: 0.4712 - acc: 0.6500\n",
            "Epoch 45/100\n",
            "1000/1000 [==============================] - 0s 495us/step - loss: 0.4650 - acc: 0.6570\n",
            "Epoch 46/100\n",
            "1000/1000 [==============================] - 1s 500us/step - loss: 0.4446 - acc: 0.6650\n",
            "Epoch 47/100\n",
            "1000/1000 [==============================] - 1s 515us/step - loss: 0.4937 - acc: 0.6060\n",
            "Epoch 48/100\n",
            "1000/1000 [==============================] - 1s 507us/step - loss: 0.4302 - acc: 0.6970\n",
            "Epoch 49/100\n",
            "1000/1000 [==============================] - 0s 480us/step - loss: 0.4131 - acc: 0.6910\n",
            "Epoch 50/100\n",
            "1000/1000 [==============================] - 1s 505us/step - loss: 0.4171 - acc: 0.6970\n",
            "Epoch 51/100\n",
            "1000/1000 [==============================] - 0s 479us/step - loss: 0.4555 - acc: 0.6610\n",
            "Epoch 52/100\n",
            "1000/1000 [==============================] - 0s 497us/step - loss: 0.4352 - acc: 0.6880\n",
            "Epoch 53/100\n",
            "1000/1000 [==============================] - 0s 484us/step - loss: 0.4338 - acc: 0.6950\n",
            "Epoch 54/100\n",
            "1000/1000 [==============================] - 0s 494us/step - loss: 0.4005 - acc: 0.6980\n",
            "Epoch 55/100\n",
            "1000/1000 [==============================] - 0s 496us/step - loss: 0.4118 - acc: 0.6880\n",
            "Epoch 56/100\n",
            "1000/1000 [==============================] - 0s 493us/step - loss: 0.3960 - acc: 0.7210\n",
            "Epoch 57/100\n",
            "1000/1000 [==============================] - 0s 495us/step - loss: 0.4274 - acc: 0.6790\n",
            "Epoch 58/100\n",
            "1000/1000 [==============================] - 0s 499us/step - loss: 0.4636 - acc: 0.6470\n",
            "Epoch 59/100\n",
            "1000/1000 [==============================] - 0s 477us/step - loss: 0.3705 - acc: 0.7270\n",
            "Epoch 60/100\n",
            "1000/1000 [==============================] - 0s 493us/step - loss: 0.3709 - acc: 0.7480\n",
            "Epoch 61/100\n",
            "1000/1000 [==============================] - 0s 484us/step - loss: 0.3913 - acc: 0.7170\n",
            "Epoch 62/100\n",
            "1000/1000 [==============================] - 0s 498us/step - loss: 0.3682 - acc: 0.7490\n",
            "Epoch 63/100\n",
            "1000/1000 [==============================] - 0s 478us/step - loss: 0.3764 - acc: 0.7280\n",
            "Epoch 64/100\n",
            "1000/1000 [==============================] - 0s 494us/step - loss: 0.3873 - acc: 0.7240\n",
            "Epoch 65/100\n",
            "1000/1000 [==============================] - 0s 468us/step - loss: 0.3947 - acc: 0.7030\n",
            "Epoch 66/100\n",
            "1000/1000 [==============================] - 0s 490us/step - loss: 0.3635 - acc: 0.7480\n",
            "Epoch 67/100\n",
            "1000/1000 [==============================] - 0s 500us/step - loss: 0.3877 - acc: 0.7110\n",
            "Epoch 68/100\n",
            "1000/1000 [==============================] - 0s 485us/step - loss: 0.3978 - acc: 0.7030\n",
            "Epoch 69/100\n",
            "1000/1000 [==============================] - 1s 526us/step - loss: 0.3484 - acc: 0.7600\n",
            "Epoch 70/100\n",
            "1000/1000 [==============================] - 0s 469us/step - loss: 0.4209 - acc: 0.6750\n",
            "Epoch 71/100\n",
            "1000/1000 [==============================] - 1s 507us/step - loss: 0.3677 - acc: 0.7390\n",
            "Epoch 72/100\n",
            "1000/1000 [==============================] - 1s 508us/step - loss: 0.3580 - acc: 0.7650\n",
            "Epoch 73/100\n",
            "1000/1000 [==============================] - 1s 519us/step - loss: 0.3617 - acc: 0.7470\n",
            "Epoch 74/100\n",
            "1000/1000 [==============================] - 0s 490us/step - loss: 0.3472 - acc: 0.7640\n",
            "Epoch 75/100\n",
            "1000/1000 [==============================] - 0s 496us/step - loss: 0.3188 - acc: 0.7940\n",
            "Epoch 76/100\n",
            "1000/1000 [==============================] - 0s 480us/step - loss: 0.3627 - acc: 0.7360\n",
            "Epoch 77/100\n",
            "1000/1000 [==============================] - 0s 495us/step - loss: 0.4063 - acc: 0.6940\n",
            "Epoch 78/100\n",
            "1000/1000 [==============================] - 0s 482us/step - loss: 0.3290 - acc: 0.7790\n",
            "Epoch 79/100\n",
            "1000/1000 [==============================] - 1s 502us/step - loss: 0.3383 - acc: 0.7760\n",
            "Epoch 80/100\n",
            "1000/1000 [==============================] - 1s 501us/step - loss: 0.3440 - acc: 0.7570\n",
            "Epoch 81/100\n",
            "1000/1000 [==============================] - 1s 514us/step - loss: 0.3229 - acc: 0.7810\n",
            "Epoch 82/100\n",
            "1000/1000 [==============================] - 0s 487us/step - loss: 0.3085 - acc: 0.8140\n",
            "Epoch 83/100\n",
            "1000/1000 [==============================] - 0s 492us/step - loss: 0.3436 - acc: 0.7550\n",
            "Epoch 84/100\n",
            "1000/1000 [==============================] - 0s 481us/step - loss: 0.3323 - acc: 0.7790\n",
            "Epoch 85/100\n",
            "1000/1000 [==============================] - 0s 492us/step - loss: 0.3205 - acc: 0.7880\n",
            "Epoch 86/100\n",
            "1000/1000 [==============================] - 0s 492us/step - loss: 0.3173 - acc: 0.7950\n",
            "Epoch 87/100\n",
            "1000/1000 [==============================] - 1s 503us/step - loss: 0.3141 - acc: 0.7830\n",
            "Epoch 88/100\n",
            "1000/1000 [==============================] - 0s 488us/step - loss: 0.3371 - acc: 0.7610\n",
            "Epoch 89/100\n",
            "1000/1000 [==============================] - 0s 490us/step - loss: 0.3037 - acc: 0.8030\n",
            "Epoch 90/100\n",
            "1000/1000 [==============================] - 1s 507us/step - loss: 0.2977 - acc: 0.8170\n",
            "Epoch 91/100\n",
            "1000/1000 [==============================] - 0s 481us/step - loss: 0.3420 - acc: 0.7850\n",
            "Epoch 92/100\n",
            "1000/1000 [==============================] - 0s 487us/step - loss: 0.2967 - acc: 0.8200\n",
            "Epoch 93/100\n",
            "1000/1000 [==============================] - 0s 466us/step - loss: 0.3214 - acc: 0.7800\n",
            "Epoch 94/100\n",
            "1000/1000 [==============================] - 0s 476us/step - loss: 0.2960 - acc: 0.8210\n",
            "Epoch 95/100\n",
            "1000/1000 [==============================] - 0s 455us/step - loss: 0.3301 - acc: 0.7950\n",
            "Epoch 96/100\n",
            "1000/1000 [==============================] - 0s 486us/step - loss: 0.2841 - acc: 0.8180\n",
            "Epoch 97/100\n",
            "1000/1000 [==============================] - 0s 462us/step - loss: 0.2683 - acc: 0.8540\n",
            "Epoch 98/100\n",
            "1000/1000 [==============================] - 0s 472us/step - loss: 0.3184 - acc: 0.7750\n",
            "Epoch 99/100\n",
            "1000/1000 [==============================] - 0s 465us/step - loss: 0.3183 - acc: 0.7910\n",
            "Epoch 100/100\n",
            "1000/1000 [==============================] - 0s 495us/step - loss: 0.2942 - acc: 0.8240\n"
          ],
          "name": "stdout"
        }
      ]
    },
    {
      "cell_type": "code",
      "metadata": {
        "id": "hHnOgnvMEee_",
        "colab_type": "code",
        "colab": {
          "base_uri": "https://localhost:8080/",
          "height": 54
        },
        "outputId": "f0d742fe-db17-4127-f142-64975cafd65a"
      },
      "source": [
        "x_test = [[3,3],[10,6]]\n",
        "x_test = np.asarray(x_test)\n",
        "x_test = x_test.astype('float32')/10.\n",
        "\n",
        "predict = model.predict(x_test)\n",
        "print (predict)"
      ],
      "execution_count": 14,
      "outputs": [
        {
          "output_type": "stream",
          "text": [
            "[[ 9.306832]\n",
            " [59.678463]]\n"
          ],
          "name": "stdout"
        }
      ]
    }
  ]
}